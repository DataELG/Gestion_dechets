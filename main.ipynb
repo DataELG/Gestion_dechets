{
 "cells": [
  {
   "cell_type": "code",
   "execution_count": 185,
   "metadata": {},
   "outputs": [],
   "source": [
    "import pandas as pd\n",
    "import seaborn as sns\n",
    "import matplotlib.pyplot as plt\n",
    "import re\n",
    "from sklearn.preprocessing import OrdinalEncoder\n",
    "# Taille cible (par exemple, la moyenne des autres classes)\n",
    "target_size = minority_classes['product'].value_counts().mean()\n",
    "\n",
    "# Undersampling de la classe majoritaire\n",
    "majority_downsampled = resample(majority_class,\n",
    "                                replace=False,          # Pas de duplication\n",
    "                                n_samples=int(target_size),  # Taille cible\n",
    "                                random_state=42)        # Pour la reproductibilité\n",
    "\n",
    "# Combiner les classes rééquilibrées\n",
    "df_balanced = pd.concat([majority_downsampled, minority_classes])\n",
    "\n",
    "# Mélanger les données pour éviter tout biais\n",
    "df_balanced = df_balanced.sample(frac=1, random_state=42).reset_index(drop=True)\n",
    "\n",
    "import json"
   ]
  },
  {
   "cell_type": "code",
   "execution_count": 186,
   "metadata": {},
   "outputs": [],
   "source": [
    "df_dechet = pd.read_csv('https://raw.githubusercontent.com/murpi/supdevinci/refs/heads/main/ML/tri_selectif.csv')"
   ]
  },
  {
   "cell_type": "markdown",
   "metadata": {},
   "source": [
    "# Exploration"
   ]
  },
  {
   "cell_type": "code",
   "execution_count": 187,
   "metadata": {},
   "outputs": [
    {
     "data": {
      "text/html": [
       "<div>\n",
       "<style scoped>\n",
       "    .dataframe tbody tr th:only-of-type {\n",
       "        vertical-align: middle;\n",
       "    }\n",
       "\n",
       "    .dataframe tbody tr th {\n",
       "        vertical-align: top;\n",
       "    }\n",
       "\n",
       "    .dataframe thead th {\n",
       "        text-align: right;\n",
       "    }\n",
       "</style>\n",
       "<table border=\"1\" class=\"dataframe\">\n",
       "  <thead>\n",
       "    <tr style=\"text-align: right;\">\n",
       "      <th></th>\n",
       "      <th>product</th>\n",
       "      <th>metal</th>\n",
       "      <th>width</th>\n",
       "      <th>optical_code</th>\n",
       "      <th>height_40</th>\n",
       "      <th>height_70</th>\n",
       "      <th>height_110</th>\n",
       "      <th>height_200</th>\n",
       "      <th>timestamp_first</th>\n",
       "      <th>timestamp_last</th>\n",
       "    </tr>\n",
       "  </thead>\n",
       "  <tbody>\n",
       "    <tr>\n",
       "      <th>0</th>\n",
       "      <td>dechet</td>\n",
       "      <td>False</td>\n",
       "      <td>86</td>\n",
       "      <td>T033073</td>\n",
       "      <td>True</td>\n",
       "      <td>True</td>\n",
       "      <td>False</td>\n",
       "      <td>False</td>\n",
       "      <td>2024-11-14 14:40:59.955602</td>\n",
       "      <td>2024-11-14 14:40:59.994822</td>\n",
       "    </tr>\n",
       "    <tr>\n",
       "      <th>1</th>\n",
       "      <td>dechet</td>\n",
       "      <td>False</td>\n",
       "      <td>79</td>\n",
       "      <td>T047103</td>\n",
       "      <td>True</td>\n",
       "      <td>True</td>\n",
       "      <td>False</td>\n",
       "      <td>False</td>\n",
       "      <td>2024-11-14 14:41:00.075113</td>\n",
       "      <td>2024-11-14 14:41:00.103905</td>\n",
       "    </tr>\n",
       "    <tr>\n",
       "      <th>2</th>\n",
       "      <td>carton_petit</td>\n",
       "      <td>False</td>\n",
       "      <td>89</td>\n",
       "      <td>B121025</td>\n",
       "      <td>True</td>\n",
       "      <td>True</td>\n",
       "      <td>False</td>\n",
       "      <td>False</td>\n",
       "      <td>2024-11-14 14:41:00.226855</td>\n",
       "      <td>2024-11-14 14:41:00.277602</td>\n",
       "    </tr>\n",
       "    <tr>\n",
       "      <th>3</th>\n",
       "      <td>tetrapak</td>\n",
       "      <td>False</td>\n",
       "      <td>71</td>\n",
       "      <td>B103004</td>\n",
       "      <td>True</td>\n",
       "      <td>False</td>\n",
       "      <td>False</td>\n",
       "      <td>False</td>\n",
       "      <td>2024-11-14 14:41:00.375405</td>\n",
       "      <td>2024-11-14 14:41:00.412324</td>\n",
       "    </tr>\n",
       "    <tr>\n",
       "      <th>4</th>\n",
       "      <td>bouteille_t</td>\n",
       "      <td>False</td>\n",
       "      <td>203</td>\n",
       "      <td>T049064</td>\n",
       "      <td>True</td>\n",
       "      <td>False</td>\n",
       "      <td>False</td>\n",
       "      <td>False</td>\n",
       "      <td>2024-11-14 14:41:00.475034</td>\n",
       "      <td>2024-11-14 14:41:00.497214</td>\n",
       "    </tr>\n",
       "  </tbody>\n",
       "</table>\n",
       "</div>"
      ],
      "text/plain": [
       "        product  metal  width optical_code  height_40  height_70  height_110  \\\n",
       "0        dechet  False     86      T033073       True       True       False   \n",
       "1        dechet  False     79      T047103       True       True       False   \n",
       "2  carton_petit  False     89      B121025       True       True       False   \n",
       "3      tetrapak  False     71      B103004       True      False       False   \n",
       "4   bouteille_t  False    203      T049064       True      False       False   \n",
       "\n",
       "   height_200             timestamp_first              timestamp_last  \n",
       "0       False  2024-11-14 14:40:59.955602  2024-11-14 14:40:59.994822  \n",
       "1       False  2024-11-14 14:41:00.075113  2024-11-14 14:41:00.103905  \n",
       "2       False  2024-11-14 14:41:00.226855  2024-11-14 14:41:00.277602  \n",
       "3       False  2024-11-14 14:41:00.375405  2024-11-14 14:41:00.412324  \n",
       "4       False  2024-11-14 14:41:00.475034  2024-11-14 14:41:00.497214  "
      ]
     },
     "execution_count": 187,
     "metadata": {},
     "output_type": "execute_result"
    }
   ],
   "source": [
    "df_dechet.head()"
   ]
  },
  {
   "cell_type": "code",
   "execution_count": 188,
   "metadata": {},
   "outputs": [
    {
     "data": {
      "text/plain": [
       "product            0\n",
       "metal              0\n",
       "width              0\n",
       "optical_code       0\n",
       "height_40          0\n",
       "height_70          0\n",
       "height_110         0\n",
       "height_200         0\n",
       "timestamp_first    0\n",
       "timestamp_last     0\n",
       "dtype: int64"
      ]
     },
     "execution_count": 188,
     "metadata": {},
     "output_type": "execute_result"
    }
   ],
   "source": [
    "df_dechet.isna().sum()"
   ]
  },
  {
   "cell_type": "code",
   "execution_count": 189,
   "metadata": {},
   "outputs": [
    {
     "name": "stdout",
     "output_type": "stream",
     "text": [
      "<class 'pandas.core.frame.DataFrame'>\n",
      "RangeIndex: 10000 entries, 0 to 9999\n",
      "Data columns (total 10 columns):\n",
      " #   Column           Non-Null Count  Dtype \n",
      "---  ------           --------------  ----- \n",
      " 0   product          10000 non-null  object\n",
      " 1   metal            10000 non-null  bool  \n",
      " 2   width            10000 non-null  int64 \n",
      " 3   optical_code     10000 non-null  object\n",
      " 4   height_40        10000 non-null  bool  \n",
      " 5   height_70        10000 non-null  bool  \n",
      " 6   height_110       10000 non-null  bool  \n",
      " 7   height_200       10000 non-null  bool  \n",
      " 8   timestamp_first  10000 non-null  object\n",
      " 9   timestamp_last   10000 non-null  object\n",
      "dtypes: bool(5), int64(1), object(4)\n",
      "memory usage: 439.6+ KB\n"
     ]
    }
   ],
   "source": [
    "df_dechet.info()"
   ]
  },
  {
   "cell_type": "code",
   "execution_count": 190,
   "metadata": {},
   "outputs": [
    {
     "name": "stderr",
     "output_type": "stream",
     "text": [
      "/usr/local/lib/python3.11/site-packages/seaborn/_oldcore.py:1498: FutureWarning: is_categorical_dtype is deprecated and will be removed in a future version. Use isinstance(dtype, CategoricalDtype) instead\n",
      "  if pd.api.types.is_categorical_dtype(vector):\n",
      "/usr/local/lib/python3.11/site-packages/seaborn/_oldcore.py:1498: FutureWarning: is_categorical_dtype is deprecated and will be removed in a future version. Use isinstance(dtype, CategoricalDtype) instead\n",
      "  if pd.api.types.is_categorical_dtype(vector):\n",
      "/usr/local/lib/python3.11/site-packages/seaborn/_oldcore.py:1119: FutureWarning: use_inf_as_na option is deprecated and will be removed in a future version. Convert inf values to NaN before operating instead.\n",
      "  with pd.option_context('mode.use_inf_as_na', True):\n"
     ]
    },
    {
     "data": {
      "text/plain": [
       "([0, 1, 2, 3, 4, 5, 6, 7, 8, 9],\n",
       " [Text(0, 0, 'dechet'),\n",
       "  Text(1, 0, 'carton_petit'),\n",
       "  Text(2, 0, 'tetrapak'),\n",
       "  Text(3, 0, 'bouteille_t'),\n",
       "  Text(4, 0, 'bouteille_b'),\n",
       "  Text(5, 0, 'yaourt'),\n",
       "  Text(6, 0, 'canette'),\n",
       "  Text(7, 0, 'conserve'),\n",
       "  Text(8, 0, 'journal'),\n",
       "  Text(9, 0, 'carton_grand')])"
      ]
     },
     "execution_count": 190,
     "metadata": {},
     "output_type": "execute_result"
    },
    {
     "data": {
      "image/png": "[encoded data removed]",
      "text/plain": [
       "<Figure size 640x480 with 1 Axes>"
      ]
     },
     "metadata": {},
     "output_type": "display_data"
    }
   ],
   "source": [
    "sns.histplot(data=df_dechet, x=\"product\")\n",
    "plt.xticks(rotation=45) "
   ]
  },
  {
   "cell_type": "markdown",
   "metadata": {},
   "source": [
    "# Preprocessing"
   ]
  },
  {
   "cell_type": "markdown",
   "metadata": {},
   "source": [
    "## Equilibre des classes ?"
   ]
  },
  {
   "cell_type": "code",
   "execution_count": 206,
   "metadata": {},
   "outputs": [],
   "source": [
    "# Classe majoritaire : \"déchet\"\n",
    "majority_class = df_dechet[df_dechet['product'] == 'dechet']\n",
    "\n",
    "# Classes minoritaires\n",
    "minority_classes = df_dechet[df_dechet['product'] != 'dechet']\n"
   ]
  },
  {
   "cell_type": "code",
   "execution_count": 207,
   "metadata": {},
   "outputs": [
    {
     "ename": "NameError",
     "evalue": "name 'resample' is not defined",
     "output_type": "error",
     "traceback": [
      "\u001b[0;31m---------------------------------------------------------------------------\u001b[0m",
      "\u001b[0;31mNameError\u001b[0m                                 Traceback (most recent call last)",
      "Cell \u001b[0;32mIn[207], line 5\u001b[0m\n\u001b[1;32m      2\u001b[0m target_size \u001b[38;5;241m=\u001b[39m minority_classes[\u001b[38;5;124m'\u001b[39m\u001b[38;5;124mproduct\u001b[39m\u001b[38;5;124m'\u001b[39m]\u001b[38;5;241m.\u001b[39mvalue_counts()\u001b[38;5;241m.\u001b[39mmean()\n\u001b[1;32m      4\u001b[0m \u001b[38;5;66;03m# Undersampling de la classe majoritaire\u001b[39;00m\n\u001b[0;32m----> 5\u001b[0m majority_downsampled \u001b[38;5;241m=\u001b[39m \u001b[43mresample\u001b[49m(majority_class,\n\u001b[1;32m      6\u001b[0m                                 replace\u001b[38;5;241m=\u001b[39m\u001b[38;5;28;01mFalse\u001b[39;00m,          \u001b[38;5;66;03m# Pas de duplication\u001b[39;00m\n\u001b[1;32m      7\u001b[0m                                 n_samples\u001b[38;5;241m=\u001b[39m\u001b[38;5;28mint\u001b[39m(target_size),  \u001b[38;5;66;03m# Taille cible\u001b[39;00m\n\u001b[1;32m      8\u001b[0m                                 random_state\u001b[38;5;241m=\u001b[39m\u001b[38;5;241m42\u001b[39m)        \u001b[38;5;66;03m# Pour la reproductibilité\u001b[39;00m\n\u001b[1;32m     10\u001b[0m \u001b[38;5;66;03m# Combiner les classes rééquilibrées\u001b[39;00m\n\u001b[1;32m     11\u001b[0m df_balanced \u001b[38;5;241m=\u001b[39m pd\u001b[38;5;241m.\u001b[39mconcat([majority_downsampled, minority_classes])\n",
      "\u001b[0;31mNameError\u001b[0m: name 'resample' is not defined"
     ]
    }
   ],
   "source": [
    "# Taille cible (par exemple, la moyenne des autres classes)\n",
    "target_size = minority_classes['product'].value_counts().mean()\n",
    "\n",
    "# Undersampling de la classe majoritaire\n",
    "majority_downsampled = resample(majority_class,\n",
    "                                replace=False,          # Pas de duplication\n",
    "                                n_samples=int(target_size),  # Taille cible\n",
    "                                random_state=42)        # Pour la reproductibilité\n",
    "\n",
    "# Combiner les classes rééquilibrées\n",
    "df_balanced = pd.concat([majority_downsampled, minority_classes])\n",
    "\n",
    "# Mélanger les données pour éviter tout biais\n",
    "df_balanced = df_balanced.sample(frac=1, random_state=42).reset_index(drop=True)\n"
   ]
  },
  {
   "cell_type": "markdown",
   "metadata": {},
   "source": [
    "## Encodage colonne optical_code"
   ]
  },
  {
   "cell_type": "markdown",
   "metadata": {},
   "source": [
    "### Test encodage avec tout le code optical"
   ]
  },
  {
   "cell_type": "code",
   "execution_count": 191,
   "metadata": {},
   "outputs": [],
   "source": [
    "def encodage_categoriel(colonne_name) :\n",
    "    unique_value= sorted(df_dechet[colonne_name].unique())\n",
    "    Ordencod_optical_code = OrdinalEncoder(categories=[unique_value])\n",
    "    df_dechet[f'{colonne_name}_Encoded'] = Ordencod_optical_code.fit_transform(df_dechet[[colonne_name]])"
   ]
  },
  {
   "cell_type": "code",
   "execution_count": 192,
   "metadata": {},
   "outputs": [],
   "source": [
    "encodage_categoriel('optical_code') "
   ]
  },
  {
   "cell_type": "markdown",
   "metadata": {},
   "source": [
    "### Test encodage sans la lettre"
   ]
  },
  {
   "cell_type": "code",
   "execution_count": 193,
   "metadata": {},
   "outputs": [],
   "source": [
    "def remove_letter (value) :\n",
    "    result = re.sub(r'[a-zA-Z]', '', value)\n",
    "    return result\n"
   ]
  },
  {
   "cell_type": "code",
   "execution_count": 194,
   "metadata": {},
   "outputs": [],
   "source": [
    "df_dechet['optical_code_numerical_only'] = df_dechet['optical_code'].apply(remove_letter)"
   ]
  },
  {
   "cell_type": "code",
   "execution_count": 195,
   "metadata": {},
   "outputs": [],
   "source": [
    "encodage_categoriel('optical_code_numerical_only')"
   ]
  },
  {
   "cell_type": "markdown",
   "metadata": {},
   "source": [
    "### Test de separation de elements du code et encodage"
   ]
  },
  {
   "cell_type": "code",
   "execution_count": 196,
   "metadata": {},
   "outputs": [],
   "source": [
    "def separate_data_optical_code(value) :\n",
    "    letter = value[0]\n",
    "    transparency = value[1:4]\n",
    "    teinte = value[4:7]\n",
    "    return letter, transparency, teinte"
   ]
  },
  {
   "cell_type": "code",
   "execution_count": 197,
   "metadata": {},
   "outputs": [],
   "source": [
    "df_dechet[['colorimetrie', 'transparency', 'teinte']] = df_dechet['optical_code'].apply(\n",
    "    separate_data_optical_code\n",
    ").apply(pd.Series)"
   ]
  },
  {
   "cell_type": "code",
   "execution_count": 198,
   "metadata": {},
   "outputs": [],
   "source": [
    "df_dechet['colorimetrie_Encoded'], uniques = pd.factorize(df_dechet['colorimetrie'])\n",
    "encodage_categoriel('transparency')\n",
    "encodage_categoriel('teinte')"
   ]
  },
  {
   "cell_type": "code",
   "execution_count": 199,
   "metadata": {},
   "outputs": [
    {
     "data": {
      "text/html": [
       "<div>\n",
       "<style scoped>\n",
       "    .dataframe tbody tr th:only-of-type {\n",
       "        vertical-align: middle;\n",
       "    }\n",
       "\n",
       "    .dataframe tbody tr th {\n",
       "        vertical-align: top;\n",
       "    }\n",
       "\n",
       "    .dataframe thead th {\n",
       "        text-align: right;\n",
       "    }\n",
       "</style>\n",
       "<table border=\"1\" class=\"dataframe\">\n",
       "  <thead>\n",
       "    <tr style=\"text-align: right;\">\n",
       "      <th></th>\n",
       "      <th>product</th>\n",
       "      <th>metal</th>\n",
       "      <th>width</th>\n",
       "      <th>optical_code</th>\n",
       "      <th>height_40</th>\n",
       "      <th>height_70</th>\n",
       "      <th>height_110</th>\n",
       "      <th>height_200</th>\n",
       "      <th>timestamp_first</th>\n",
       "      <th>timestamp_last</th>\n",
       "      <th>optical_code_Encoded</th>\n",
       "      <th>optical_code_numerical_only</th>\n",
       "      <th>optical_code_numerical_only_Encoded</th>\n",
       "      <th>colorimetrie</th>\n",
       "      <th>transparency</th>\n",
       "      <th>teinte</th>\n",
       "      <th>colorimetrie_Encoded</th>\n",
       "      <th>transparency_Encoded</th>\n",
       "      <th>teinte_Encoded</th>\n",
       "    </tr>\n",
       "  </thead>\n",
       "  <tbody>\n",
       "    <tr>\n",
       "      <th>0</th>\n",
       "      <td>dechet</td>\n",
       "      <td>False</td>\n",
       "      <td>86</td>\n",
       "      <td>T033073</td>\n",
       "      <td>True</td>\n",
       "      <td>True</td>\n",
       "      <td>False</td>\n",
       "      <td>False</td>\n",
       "      <td>2024-11-14 14:40:59.955602</td>\n",
       "      <td>2024-11-14 14:40:59.994822</td>\n",
       "      <td>3344.0</td>\n",
       "      <td>033073</td>\n",
       "      <td>1351.0</td>\n",
       "      <td>T</td>\n",
       "      <td>033</td>\n",
       "      <td>073</td>\n",
       "      <td>0</td>\n",
       "      <td>33.0</td>\n",
       "      <td>73.0</td>\n",
       "    </tr>\n",
       "    <tr>\n",
       "      <th>1</th>\n",
       "      <td>dechet</td>\n",
       "      <td>False</td>\n",
       "      <td>79</td>\n",
       "      <td>T047103</td>\n",
       "      <td>True</td>\n",
       "      <td>True</td>\n",
       "      <td>False</td>\n",
       "      <td>False</td>\n",
       "      <td>2024-11-14 14:41:00.075113</td>\n",
       "      <td>2024-11-14 14:41:00.103905</td>\n",
       "      <td>3828.0</td>\n",
       "      <td>047103</td>\n",
       "      <td>2276.0</td>\n",
       "      <td>T</td>\n",
       "      <td>047</td>\n",
       "      <td>103</td>\n",
       "      <td>0</td>\n",
       "      <td>47.0</td>\n",
       "      <td>103.0</td>\n",
       "    </tr>\n",
       "    <tr>\n",
       "      <th>2</th>\n",
       "      <td>carton_petit</td>\n",
       "      <td>False</td>\n",
       "      <td>89</td>\n",
       "      <td>B121025</td>\n",
       "      <td>True</td>\n",
       "      <td>True</td>\n",
       "      <td>False</td>\n",
       "      <td>False</td>\n",
       "      <td>2024-11-14 14:41:00.226855</td>\n",
       "      <td>2024-11-14 14:41:00.277602</td>\n",
       "      <td>2703.0</td>\n",
       "      <td>121025</td>\n",
       "      <td>4410.0</td>\n",
       "      <td>B</td>\n",
       "      <td>121</td>\n",
       "      <td>025</td>\n",
       "      <td>1</td>\n",
       "      <td>121.0</td>\n",
       "      <td>25.0</td>\n",
       "    </tr>\n",
       "    <tr>\n",
       "      <th>3</th>\n",
       "      <td>tetrapak</td>\n",
       "      <td>False</td>\n",
       "      <td>71</td>\n",
       "      <td>B103004</td>\n",
       "      <td>True</td>\n",
       "      <td>False</td>\n",
       "      <td>False</td>\n",
       "      <td>False</td>\n",
       "      <td>2024-11-14 14:41:00.375405</td>\n",
       "      <td>2024-11-14 14:41:00.412324</td>\n",
       "      <td>2478.0</td>\n",
       "      <td>103004</td>\n",
       "      <td>4185.0</td>\n",
       "      <td>B</td>\n",
       "      <td>103</td>\n",
       "      <td>004</td>\n",
       "      <td>1</td>\n",
       "      <td>103.0</td>\n",
       "      <td>4.0</td>\n",
       "    </tr>\n",
       "    <tr>\n",
       "      <th>4</th>\n",
       "      <td>bouteille_t</td>\n",
       "      <td>False</td>\n",
       "      <td>203</td>\n",
       "      <td>T049064</td>\n",
       "      <td>True</td>\n",
       "      <td>False</td>\n",
       "      <td>False</td>\n",
       "      <td>False</td>\n",
       "      <td>2024-11-14 14:41:00.475034</td>\n",
       "      <td>2024-11-14 14:41:00.497214</td>\n",
       "      <td>3879.0</td>\n",
       "      <td>049064</td>\n",
       "      <td>2388.0</td>\n",
       "      <td>T</td>\n",
       "      <td>049</td>\n",
       "      <td>064</td>\n",
       "      <td>0</td>\n",
       "      <td>49.0</td>\n",
       "      <td>64.0</td>\n",
       "    </tr>\n",
       "  </tbody>\n",
       "</table>\n",
       "</div>"
      ],
      "text/plain": [
       "        product  metal  width optical_code  height_40  height_70  height_110  \\\n",
       "0        dechet  False     86      T033073       True       True       False   \n",
       "1        dechet  False     79      T047103       True       True       False   \n",
       "2  carton_petit  False     89      B121025       True       True       False   \n",
       "3      tetrapak  False     71      B103004       True      False       False   \n",
       "4   bouteille_t  False    203      T049064       True      False       False   \n",
       "\n",
       "   height_200             timestamp_first              timestamp_last  \\\n",
       "0       False  2024-11-14 14:40:59.955602  2024-11-14 14:40:59.994822   \n",
       "1       False  2024-11-14 14:41:00.075113  2024-11-14 14:41:00.103905   \n",
       "2       False  2024-11-14 14:41:00.226855  2024-11-14 14:41:00.277602   \n",
       "3       False  2024-11-14 14:41:00.375405  2024-11-14 14:41:00.412324   \n",
       "4       False  2024-11-14 14:41:00.475034  2024-11-14 14:41:00.497214   \n",
       "\n",
       "   optical_code_Encoded optical_code_numerical_only  \\\n",
       "0                3344.0                      033073   \n",
       "1                3828.0                      047103   \n",
       "2                2703.0                      121025   \n",
       "3                2478.0                      103004   \n",
       "4                3879.0                      049064   \n",
       "\n",
       "   optical_code_numerical_only_Encoded colorimetrie transparency teinte  \\\n",
       "0                               1351.0            T          033    073   \n",
       "1                               2276.0            T          047    103   \n",
       "2                               4410.0            B          121    025   \n",
       "3                               4185.0            B          103    004   \n",
       "4                               2388.0            T          049    064   \n",
       "\n",
       "   colorimetrie_Encoded  transparency_Encoded  teinte_Encoded  \n",
       "0                     0                  33.0            73.0  \n",
       "1                     0                  47.0           103.0  \n",
       "2                     1                 121.0            25.0  \n",
       "3                     1                 103.0             4.0  \n",
       "4                     0                  49.0            64.0  "
      ]
     },
     "execution_count": 199,
     "metadata": {},
     "output_type": "execute_result"
    }
   ],
   "source": [
    "df_dechet.head()"
   ]
  },
  {
   "cell_type": "markdown",
   "metadata": {},
   "source": [
    "## Création colonne hauteur"
   ]
  },
  {
   "cell_type": "code",
   "execution_count": 200,
   "metadata": {},
   "outputs": [],
   "source": [
    "def calculer_longeur_mm(df):\n",
    "    \"\"\"\n",
    "    Calcule la colonne 'taille_mm' à partir des colonnes 'timestamp_first' et 'timestamp_last' d'un DataFrame.\n",
    "    \n",
    "    Paramètres :\n",
    "        df (pd.DataFrame) : DataFrame contenant les colonnes 'timestamp_first' et 'timestamp_last'.\n",
    "        \n",
    "    Retourne :\n",
    "        pd.Series : Colonne 'taille_mm' avec les tailles calculées en millimètres.\n",
    "    \"\"\"\n",
    "    # Convertir les colonnes en type datetime\n",
    "    df['timestamp_first'] = pd.to_datetime(df['timestamp_first'])\n",
    "    df['timestamp_last'] = pd.to_datetime(df['timestamp_last'])\n",
    "    \n",
    "    # Calculer la différence en secondes\n",
    "    df['écart_seccondes'] = (df['timestamp_last'] - df['timestamp_first']).dt.total_seconds()\n",
    "    \n",
    "    # Calculer la vitesse en km/s (8 km/h)\n",
    "    vitesse_km_s = 8 / 3600  # Conversion de 8 km/h en km/s\n",
    "    \n",
    "    df['distance_km'] = df['écart_seccondes'] * vitesse_km_s\n",
    "    \n",
    "    df['longeur_mm'] = (df['distance_km'] * 1000000).round(2)\n",
    "\n"
   ]
  },
  {
   "cell_type": "code",
   "execution_count": 201,
   "metadata": {},
   "outputs": [],
   "source": [
    "calculer_longeur_mm(df_dechet)"
   ]
  },
  {
   "cell_type": "code",
   "execution_count": null,
   "metadata": {},
   "outputs": [],
   "source": [
    "def transformation_df(df) :\n",
    "    # Ajouter taille\n",
    "    calculer_longeur_mm(df)\n",
    "    # Ajouter hauteur\n",
    "    \n",
    "    # Ajouter optical_code\n",
    "    \n",
    "    return df"
   ]
  },
  {
   "cell_type": "markdown",
   "metadata": {},
   "source": [
    "## Test de fonction"
   ]
  },
  {
   "cell_type": "code",
   "execution_count": 203,
   "metadata": {},
   "outputs": [],
   "source": [
    "    test = '{\"metal\":false,\"width\":86,\"optical_code\":\"T033073\",\"height_40\":true,\"height_70\":true,\"height_110\":false,\"height_200\":false,\"timestamp_first\":\"2024-11-14 14:40:59.955602\",\"timestamp_last\":\"2024-11-14 14:40:59.994822\"}'"
   ]
  },
  {
   "cell_type": "code",
   "execution_count": 204,
   "metadata": {},
   "outputs": [],
   "source": [
    "def prediction(input_str) :\n",
    "    input_json = json.loads(input_str)\n",
    "    df = pd.DataFrame([input_json])\n",
    "    # transformation\n",
    "    transformation_df(df)\n",
    "    # Prediction modele\n",
    "    \n",
    "    return pred\n",
    "    "
   ]
  }
 ],
 "metadata": {
  "kernelspec": {
   "display_name": "Python 3",
   "language": "python",
   "name": "python3"
  },
  "language_info": {
   "codemirror_mode": {
    "name": "ipython",
    "version": 3
   },
   "file_extension": ".py",
   "mimetype": "text/x-python",
   "name": "python",
   "nbconvert_exporter": "python",
   "pygments_lexer": "ipython3",
   "version": "3.11.9"
  }
 },
 "nbformat": 4,
 "nbformat_minor": 2
}
