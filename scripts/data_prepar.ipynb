{
  "cells": [
    {
      "cell_type": "markdown",
      "metadata": {},
      "source": [
        "# Import librairies"
      ]
    },
    {
      "cell_type": "code",
      "execution_count": 1,
      "metadata": {},
      "outputs": [],
      "source": [
        "import pandas as pd\n",
        "from sklearn.preprocessing import OrdinalEncoder\n",
        "from sklearn.utils import resample\n",
        "import matplotlib.pyplot as plt\n",
        "import re"
      ]
    },
    {
      "cell_type": "markdown",
      "metadata": {},
      "source": [
        "# Import dataset"
      ]
    },
    {
      "cell_type": "code",
      "execution_count": 2,
      "metadata": {},
      "outputs": [],
      "source": [
        "df_dechets = pd.read_csv(\"https://raw.githubusercontent.com/murpi/supdevinci/refs/heads/main/ML/tri_selectif.csv\")\n"
      ]
    },
    {
      "cell_type": "markdown",
      "metadata": {},
      "source": [
        "# Exploration"
      ]
    },
    {
      "cell_type": "code",
      "execution_count": 3,
      "metadata": {},
      "outputs": [
        {
          "data": {
            "text/html": [
              "<div>\n",
              "<style scoped>\n",
              "    .dataframe tbody tr th:only-of-type {\n",
              "        vertical-align: middle;\n",
              "    }\n",
              "\n",
              "    .dataframe tbody tr th {\n",
              "        vertical-align: top;\n",
              "    }\n",
              "\n",
              "    .dataframe thead th {\n",
              "        text-align: right;\n",
              "    }\n",
              "</style>\n",
              "<table border=\"1\" class=\"dataframe\">\n",
              "  <thead>\n",
              "    <tr style=\"text-align: right;\">\n",
              "      <th></th>\n",
              "      <th>product</th>\n",
              "      <th>metal</th>\n",
              "      <th>width</th>\n",
              "      <th>optical_code</th>\n",
              "      <th>height_40</th>\n",
              "      <th>height_70</th>\n",
              "      <th>height_110</th>\n",
              "      <th>height_200</th>\n",
              "      <th>timestamp_first</th>\n",
              "      <th>timestamp_last</th>\n",
              "    </tr>\n",
              "  </thead>\n",
              "  <tbody>\n",
              "    <tr>\n",
              "      <th>0</th>\n",
              "      <td>dechet</td>\n",
              "      <td>False</td>\n",
              "      <td>86</td>\n",
              "      <td>T033073</td>\n",
              "      <td>True</td>\n",
              "      <td>True</td>\n",
              "      <td>False</td>\n",
              "      <td>False</td>\n",
              "      <td>2024-11-14 14:40:59.955602</td>\n",
              "      <td>2024-11-14 14:40:59.994822</td>\n",
              "    </tr>\n",
              "    <tr>\n",
              "      <th>1</th>\n",
              "      <td>dechet</td>\n",
              "      <td>False</td>\n",
              "      <td>79</td>\n",
              "      <td>T047103</td>\n",
              "      <td>True</td>\n",
              "      <td>True</td>\n",
              "      <td>False</td>\n",
              "      <td>False</td>\n",
              "      <td>2024-11-14 14:41:00.075113</td>\n",
              "      <td>2024-11-14 14:41:00.103905</td>\n",
              "    </tr>\n",
              "    <tr>\n",
              "      <th>2</th>\n",
              "      <td>carton_petit</td>\n",
              "      <td>False</td>\n",
              "      <td>89</td>\n",
              "      <td>B121025</td>\n",
              "      <td>True</td>\n",
              "      <td>True</td>\n",
              "      <td>False</td>\n",
              "      <td>False</td>\n",
              "      <td>2024-11-14 14:41:00.226855</td>\n",
              "      <td>2024-11-14 14:41:00.277602</td>\n",
              "    </tr>\n",
              "    <tr>\n",
              "      <th>3</th>\n",
              "      <td>tetrapak</td>\n",
              "      <td>False</td>\n",
              "      <td>71</td>\n",
              "      <td>B103004</td>\n",
              "      <td>True</td>\n",
              "      <td>False</td>\n",
              "      <td>False</td>\n",
              "      <td>False</td>\n",
              "      <td>2024-11-14 14:41:00.375405</td>\n",
              "      <td>2024-11-14 14:41:00.412324</td>\n",
              "    </tr>\n",
              "    <tr>\n",
              "      <th>4</th>\n",
              "      <td>bouteille_t</td>\n",
              "      <td>False</td>\n",
              "      <td>203</td>\n",
              "      <td>T049064</td>\n",
              "      <td>True</td>\n",
              "      <td>False</td>\n",
              "      <td>False</td>\n",
              "      <td>False</td>\n",
              "      <td>2024-11-14 14:41:00.475034</td>\n",
              "      <td>2024-11-14 14:41:00.497214</td>\n",
              "    </tr>\n",
              "  </tbody>\n",
              "</table>\n",
              "</div>"
            ],
            "text/plain": [
              "        product  metal  width optical_code  height_40  height_70  height_110  \\\n",
              "0        dechet  False     86      T033073       True       True       False   \n",
              "1        dechet  False     79      T047103       True       True       False   \n",
              "2  carton_petit  False     89      B121025       True       True       False   \n",
              "3      tetrapak  False     71      B103004       True      False       False   \n",
              "4   bouteille_t  False    203      T049064       True      False       False   \n",
              "\n",
              "   height_200             timestamp_first              timestamp_last  \n",
              "0       False  2024-11-14 14:40:59.955602  2024-11-14 14:40:59.994822  \n",
              "1       False  2024-11-14 14:41:00.075113  2024-11-14 14:41:00.103905  \n",
              "2       False  2024-11-14 14:41:00.226855  2024-11-14 14:41:00.277602  \n",
              "3       False  2024-11-14 14:41:00.375405  2024-11-14 14:41:00.412324  \n",
              "4       False  2024-11-14 14:41:00.475034  2024-11-14 14:41:00.497214  "
            ]
          },
          "execution_count": 3,
          "metadata": {},
          "output_type": "execute_result"
        }
      ],
      "source": [
        "df_dechets.head()"
      ]
    },
    {
      "cell_type": "code",
      "execution_count": 4,
      "metadata": {},
      "outputs": [
        {
          "data": {
            "text/plain": [
              "(10000, 10)"
            ]
          },
          "execution_count": 4,
          "metadata": {},
          "output_type": "execute_result"
        }
      ],
      "source": [
        "df_dechets.shape"
      ]
    },
    {
      "cell_type": "code",
      "execution_count": 5,
      "metadata": {},
      "outputs": [
        {
          "name": "stdout",
          "output_type": "stream",
          "text": [
            "<class 'pandas.core.frame.DataFrame'>\n",
            "RangeIndex: 10000 entries, 0 to 9999\n",
            "Data columns (total 10 columns):\n",
            " #   Column           Non-Null Count  Dtype \n",
            "---  ------           --------------  ----- \n",
            " 0   product          10000 non-null  object\n",
            " 1   metal            10000 non-null  bool  \n",
            " 2   width            10000 non-null  int64 \n",
            " 3   optical_code     10000 non-null  object\n",
            " 4   height_40        10000 non-null  bool  \n",
            " 5   height_70        10000 non-null  bool  \n",
            " 6   height_110       10000 non-null  bool  \n",
            " 7   height_200       10000 non-null  bool  \n",
            " 8   timestamp_first  10000 non-null  object\n",
            " 9   timestamp_last   10000 non-null  object\n",
            "dtypes: bool(5), int64(1), object(4)\n",
            "memory usage: 439.6+ KB\n"
          ]
        }
      ],
      "source": [
        "df_dechets.info()"
      ]
    },
    {
      "cell_type": "code",
      "execution_count": 6,
      "metadata": {},
      "outputs": [
        {
          "data": {
            "text/plain": [
              "product            0\n",
              "metal              0\n",
              "width              0\n",
              "optical_code       0\n",
              "height_40          0\n",
              "height_70          0\n",
              "height_110         0\n",
              "height_200         0\n",
              "timestamp_first    0\n",
              "timestamp_last     0\n",
              "dtype: int64"
            ]
          },
          "execution_count": 6,
          "metadata": {},
          "output_type": "execute_result"
        }
      ],
      "source": [
        "df_dechets.isna().sum()"
      ]
    },
    {
      "cell_type": "code",
      "execution_count": 7,
      "metadata": {},
      "outputs": [
        {
          "data": {
            "image/png": "[encoded data removed]",
            "text/plain": [
              "<Figure size 1000x600 with 1 Axes>"
            ]
          },
          "metadata": {},
          "output_type": "display_data"
        }
      ],
      "source": [
        "product_counts = df_dechets['product'].value_counts()\n",
        "\n",
        "# Créer un histogramme\n",
        "plt.figure(figsize=(10, 6))\n",
        "product_counts.plot(kind='bar')\n",
        "plt.title('Histogramme des produits')\n",
        "plt.xlabel('Type de produit')\n",
        "plt.ylabel('Nombre d\\'occurrences')\n",
        "plt.xticks(rotation=45)\n",
        "plt.grid(axis='y', linestyle='--', alpha=0.7)\n",
        "\n",
        "plt.show()"
      ]
    },
    {
      "cell_type": "markdown",
      "metadata": {},
      "source": [
        "## Réquilibre des classes"
      ]
    },
    {
      "cell_type": "code",
      "execution_count": 8,
      "metadata": {},
      "outputs": [],
      "source": [
        "# Classe majoritaire : \"déchet\"\n",
        "majority_class = df_dechets[df_dechets['product'] == 'dechet']\n",
        "\n",
        "# Classes minoritaires\n",
        "minority_classes = df_dechets[df_dechets['product'] != 'dechet']\n",
        "\n",
        "# Taille cible (par exemple, la moyenne des autres classes)\n",
        "target_size = minority_classes['product'].value_counts().mean()\n",
        "\n",
        "# Undersampling de la classe majoritaire\n",
        "majority_downsampled = resample(majority_class,\n",
        "                                replace=False,          # Pas de duplication\n",
        "                                n_samples=int(target_size),  # Taille cible\n",
        "                                random_state=42)     \n",
        "\n",
        "# Combiner les classes rééquilibrées\n",
        "df_balanced = pd.concat([majority_downsampled, minority_classes])\n",
        "\n",
        "# Mélange des données\n",
        "df_balanced = df_balanced.sample(frac=1, random_state=42).reset_index(drop=True)\n"
      ]
    },
    {
      "cell_type": "code",
      "execution_count": 9,
      "metadata": {},
      "outputs": [
        {
          "data": {
            "image/png": "[encoded data removed]",
            "text/plain": [
              "<Figure size 1000x600 with 1 Axes>"
            ]
          },
          "metadata": {},
          "output_type": "display_data"
        }
      ],
      "source": [
        "# Vérification\n",
        "product_counts = df_balanced['product'].value_counts()\n",
        "\n",
        "# Créer un histogramme\n",
        "plt.figure(figsize=(10, 6))\n",
        "product_counts.plot(kind='bar')\n",
        "plt.title('Histogramme des produits')\n",
        "plt.xlabel('Type de produit')\n",
        "plt.ylabel('Nombre d\\'occurrences')\n",
        "plt.xticks(rotation=45)\n",
        "plt.grid(axis='y', linestyle='--', alpha=0.7)\n",
        "\n",
        "plt.show()"
      ]
    },
    {
      "cell_type": "markdown",
      "metadata": {},
      "source": [
        "### Encodage optical_code brut"
      ]
    },
    {
      "cell_type": "code",
      "execution_count": 10,
      "metadata": {},
      "outputs": [],
      "source": [
        "def encodage_categoriel(colonne_name) :\n",
        "    unique_value= sorted(df_balanced[colonne_name].unique())\n",
        "    Ordencod_optical_code = OrdinalEncoder(categories=[unique_value])\n",
        "    df_balanced[f'{colonne_name}_Encoded'] = Ordencod_optical_code.fit_transform(df_balanced[[colonne_name]])"
      ]
    },
    {
      "cell_type": "code",
      "execution_count": 11,
      "metadata": {},
      "outputs": [],
      "source": [
        "encodage_categoriel('optical_code') "
      ]
    },
    {
      "cell_type": "markdown",
      "metadata": {},
      "source": [
        "### Encodage optical_code sans lettre"
      ]
    },
    {
      "cell_type": "code",
      "execution_count": 12,
      "metadata": {},
      "outputs": [],
      "source": [
        "def remove_letter (value) :\n",
        "    result = re.sub(r'[a-zA-Z]', '', value)\n",
        "    return result"
      ]
    },
    {
      "cell_type": "code",
      "execution_count": 13,
      "metadata": {},
      "outputs": [],
      "source": [
        "df_balanced['optical_code_numerical_only'] = df_balanced['optical_code'].apply(remove_letter)"
      ]
    },
    {
      "cell_type": "code",
      "execution_count": 14,
      "metadata": {},
      "outputs": [],
      "source": [
        "encodage_categoriel('optical_code_numerical_only')"
      ]
    },
    {
      "cell_type": "markdown",
      "metadata": {},
      "source": [
        "### Encodage optical_code en colonne séparée"
      ]
    },
    {
      "cell_type": "code",
      "execution_count": 15,
      "metadata": {},
      "outputs": [],
      "source": [
        "def separate_data_optical_code(value) :\n",
        "    letter = value[0]\n",
        "    transparency = value[1:4]\n",
        "    teinte = value[4:7]\n",
        "    return letter, transparency, teinte"
      ]
    },
    {
      "cell_type": "code",
      "execution_count": 16,
      "metadata": {},
      "outputs": [],
      "source": [
        "df_balanced[['colorimetrie', 'transparency', 'teinte']] = df_balanced['optical_code'].apply(\n",
        "    separate_data_optical_code\n",
        ").apply(pd.Series)"
      ]
    },
    {
      "cell_type": "code",
      "execution_count": 17,
      "metadata": {},
      "outputs": [],
      "source": [
        "df_balanced['colorimetrie_Encoded'], uniques = pd.factorize(df_balanced['colorimetrie'])\n",
        "encodage_categoriel('transparency')\n",
        "encodage_categoriel('teinte')"
      ]
    },
    {
      "cell_type": "markdown",
      "metadata": {},
      "source": [
        "## Ajout de la longeur"
      ]
    },
    {
      "cell_type": "code",
      "execution_count": 18,
      "metadata": {},
      "outputs": [],
      "source": [
        "def calculer_longeur_mm(df): \n",
        "    \"\"\"\n",
        "    Calcule la colonne 'taille_mm' à partir des colonnes 'timestamp_first' et 'timestamp_last' d'un DataFrame.\n",
        "    \n",
        "    Paramètres :\n",
        "        df (pd.DataFrame) : DataFrame contenant les colonnes 'timestamp_first' et 'timestamp_last'.\n",
        "        \n",
        "    Retourne :\n",
        "        pd.Series : Colonne 'taille_mm' avec les tailles calculées en millimètres.\n",
        "    \"\"\"\n",
        "    # Convertir les colonnes en type datetime\n",
        "    df['timestamp_first'] = pd.to_datetime(df['timestamp_first'])\n",
        "    df['timestamp_last'] = pd.to_datetime(df['timestamp_last'])\n",
        "    \n",
        "    # Calculer la différence en secondes\n",
        "    df['écart_seccondes'] = (df['timestamp_last'] - df['timestamp_first']).dt.total_seconds()\n",
        "    \n",
        "    # Calculer la vitesse en km/s (8 km/h)\n",
        "    vitesse_km_s = 8 / 3600  # Conversion de 8 km/h en km/s\n",
        "    \n",
        "    df['distance_km'] = df['écart_seccondes'] * vitesse_km_s\n",
        "    \n",
        "    df['longeur_mm'] = (df['distance_km'] * 1000000).round(2)\n",
        "    df.drop(columns=['distance_km', 'écart_seccondes'],inplace=True)\n",
        "    return df"
      ]
    },
    {
      "cell_type": "code",
      "execution_count": 19,
      "metadata": {},
      "outputs": [],
      "source": [
        "calculer_longeur_mm(df_balanced)"
      ]
    },
    {
      "cell_type": "code",
      "execution_count": 20,
      "metadata": {},
      "outputs": [
        {
          "data": {
            "text/plain": [
              "Index(['product', 'metal', 'width', 'optical_code', 'height_40', 'height_70',\n",
              "       'height_110', 'height_200', 'timestamp_first', 'timestamp_last',\n",
              "       'optical_code_Encoded', 'optical_code_numerical_only',\n",
              "       'optical_code_numerical_only_Encoded', 'colorimetrie', 'transparency',\n",
              "       'teinte', 'colorimetrie_Encoded', 'transparency_Encoded',\n",
              "       'teinte_Encoded', 'longeur_mm'],\n",
              "      dtype='object')"
            ]
          },
          "execution_count": 20,
          "metadata": {},
          "output_type": "execute_result"
        }
      ],
      "source": [
        "df_balanced.columns"
      ]
    },
    {
      "cell_type": "markdown",
      "metadata": {},
      "source": [
        "## Ajout colonne hauteur"
      ]
    },
    {
      "cell_type": "code",
      "execution_count": 21,
      "metadata": {},
      "outputs": [
        {
          "data": {
            "text/plain": [
              "0        True\n",
              "1       False\n",
              "2        True\n",
              "3       False\n",
              "4        True\n",
              "        ...  \n",
              "7729    False\n",
              "7730    False\n",
              "7731    False\n",
              "7732     True\n",
              "7733    False\n",
              "Name: height_110, Length: 7734, dtype: bool"
            ]
          },
          "execution_count": 21,
          "metadata": {},
          "output_type": "execute_result"
        }
      ],
      "source": [
        "df_balanced['height_110']\n"
      ]
    },
    {
      "cell_type": "code",
      "execution_count": 22,
      "metadata": {},
      "outputs": [],
      "source": [
        "def determine_height(row):\n",
        "    if not row['height_40'] and not row['height_70'] and not row['height_110'] and not row['height_200']:\n",
        "        return '[0, 40]'\n",
        "    if row['height_40'] and not row['height_70'] and not row['height_110'] and not row['height_200']:\n",
        "        return '[40, 70]'\n",
        "    elif row['height_40'] and row['height_70'] and not row['height_110'] and not row['height_200']:\n",
        "        return '[70, 110]'\n",
        "    elif  row['height_40'] and row['height_70'] and row['height_110'] and not row['height_200']:\n",
        "        return '[110, 200]'\n",
        "    elif row['height_40'] and row['height_70'] and row['height_110'] and row['height_200']:\n",
        "         return '>= 200'\n",
        "    else:\n",
        "        return 'Undefined'\n"
      ]
    },
    {
      "cell_type": "code",
      "execution_count": 23,
      "metadata": {},
      "outputs": [
        {
          "name": "stdout",
          "output_type": "stream",
          "text": [
            "0       [110, 200]\n",
            "1        [70, 110]\n",
            "2           >= 200\n",
            "3         [40, 70]\n",
            "4       [110, 200]\n",
            "           ...    \n",
            "7729      [40, 70]\n",
            "7730     [70, 110]\n",
            "7731       [0, 40]\n",
            "7732        >= 200\n",
            "7733      [40, 70]\n",
            "Name: height, Length: 7734, dtype: object\n"
          ]
        }
      ],
      "source": [
        "# Appliquer la fonction pour créer la colonne 'height'\n",
        "df_balanced['height'] = df_balanced.apply(determine_height, axis=1)\n",
        "\n",
        "# Afficher le DataFrame mis à jour\n",
        "print(df_balanced['height'])"
      ]
    },
    {
      "cell_type": "code",
      "execution_count": 24,
      "metadata": {},
      "outputs": [
        {
          "data": {
            "text/plain": [
              "(0, 21)"
            ]
          },
          "execution_count": 24,
          "metadata": {},
          "output_type": "execute_result"
        }
      ],
      "source": [
        "undefined_height = df_balanced[df_balanced['height'] == 'Undefined']\n",
        "undefined_height.shape"
      ]
    },
    {
      "cell_type": "code",
      "execution_count": 25,
      "metadata": {},
      "outputs": [
        {
          "name": "stdout",
          "output_type": "stream",
          "text": [
            "          height  height_encoded\n",
            "0     [110, 200]               4\n",
            "1      [70, 110]               3\n",
            "2         >= 200               5\n",
            "3       [40, 70]               2\n",
            "4     [110, 200]               4\n",
            "...          ...             ...\n",
            "7729    [40, 70]               2\n",
            "7730   [70, 110]               3\n",
            "7731     [0, 40]               1\n",
            "7732      >= 200               5\n",
            "7733    [40, 70]               2\n",
            "\n",
            "[7734 rows x 2 columns]\n"
          ]
        }
      ],
      "source": [
        "height_encoder = {\n",
        "    '[0, 40]': 1,\n",
        "    '[40, 70]': 2,\n",
        "    '[70, 110]': 3,\n",
        "    '[110, 200]': 4,\n",
        "    '>= 200': 5\n",
        "}\n",
        "\n",
        "# Encoder la colonne 'height'\n",
        "df_balanced['height_encoded'] = df_balanced['height'].map(height_encoder)\n",
        "\n",
        "# Afficher les premières lignes pour vérifier\n",
        "print(df_balanced[['height', 'height_encoded']])\n"
      ]
    }
  ],
  "metadata": {
    "colab": {
      "provenance": []
    },
    "kernelspec": {
      "display_name": "Python 3",
      "name": "python3"
    },
    "language_info": {
      "codemirror_mode": {
        "name": "ipython",
        "version": 3
      },
      "file_extension": ".py",
      "mimetype": "text/x-python",
      "name": "python",
      "nbconvert_exporter": "python",
      "pygments_lexer": "ipython3",
      "version": "3.11.9"
    }
  },
  "nbformat": 4,
  "nbformat_minor": 0
}
